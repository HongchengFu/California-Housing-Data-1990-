{
 "cells": [
  {
   "cell_type": "code",
   "execution_count": 5,
   "metadata": {},
   "outputs": [
    {
     "data": {
      "text/plain": [
       "DeltaGenerator()"
      ]
     },
     "execution_count": 5,
     "metadata": {},
     "output_type": "execute_result"
    }
   ],
   "source": [
    "import streamlit as st\n",
    "import pandas as pd\n",
    "import matplotlib.pyplot as plt\n",
    "import seaborn as sns\n",
    "sns.set()\n",
    "\n",
    "\n",
    "st.title('California Housing Data(1990)')\n",
    "df = pd.read_csv('housing.csv')\n",
    "\n",
    "st.subheader('Hongcheng Fu')\n",
    "price_filter = st.slider('Minimal median Housing Price', 0, 500001, 200000)  \n",
    "st.subheader('See more filters in the side bar')\n",
    "\n",
    "# create a multi select\n",
    "location_filter = st.sidebar.multiselect(\n",
    "     'Choose the location type',\n",
    "     df.ocean_proximity.unique(),  # options\n",
    "     df.ocean_proximity.unique())  # defaults\n",
    "\n",
    "# Create a radio button for filtering by median income level\n",
    "income_level = st.sidebar.radio(\n",
    "    \"Select income level:\",\n",
    "    ('Low', 'Medium', 'High')\n",
    ")\n",
    "\n",
    "\n",
    "\n",
    "\n",
    "df= df[(df.median_house_value >= price_filter)]\n",
    "\n",
    "\n",
    "df= df[df.ocean_proximity.isin(location_filter)]\n",
    "\n",
    "if income_level == 'Low':\n",
    "   df = df[df['median_income'] <= 2.5]\n",
    "elif income_level == 'Medium':\n",
    "   df = df[(df['median_income'] > 2.5) & (df['median_income'] <= 4.5)]\n",
    "else:\n",
    "   df= df[df['median_income'] > 4.5]\n",
    "\n",
    "\n",
    "# show on map\n",
    "st.map(df)\n",
    "\n",
    "# show the plot\n",
    "st.subheader('The Median House Value')\n",
    "\n",
    "\n",
    "fig, ax = plt.subplots(figsize=(15, 8))\n",
    "\n",
    "ax.set_title('A Histogram of The Median House Value')  \n",
    "ax.set_xlabel('The Median House Value') \n",
    "ax.set_ylabel('Number') \n",
    "\n",
    "\n",
    "if income_level == 'Low':\n",
    "   data =df[(df.median_house_value>=200000)&(df.median_income<=2.5)]\n",
    "elif income_level == 'Medium':\n",
    "   data =df[(df.median_house_value>=200000)&(df.median_income>2.5)&(df.median_income<=4.5)]\n",
    "else:\n",
    "   data =df[(df.median_house_value>=200000)&(df.median_income>4.5)]\n",
    "     \n",
    "data.median_house_value.hist(bins=30)\n",
    "\n",
    "\n",
    "plt.grid(True)\n",
    "st.pyplot(fig)\n",
    "\n"
   ]
  }
 ],
 "metadata": {
  "kernelspec": {
   "display_name": "base",
   "language": "python",
   "name": "python3"
  },
  "language_info": {
   "codemirror_mode": {
    "name": "ipython",
    "version": 3
   },
   "file_extension": ".py",
   "mimetype": "text/x-python",
   "name": "python",
   "nbconvert_exporter": "python",
   "pygments_lexer": "ipython3",
   "version": "3.12.4"
  }
 },
 "nbformat": 4,
 "nbformat_minor": 2
}
