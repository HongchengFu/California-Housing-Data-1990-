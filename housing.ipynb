{
 "cells": [
  {
   "cell_type": "code",
   "execution_count": 20,
   "metadata": {},
   "outputs": [
    {
     "data": {
      "text/plain": [
       "DeltaGenerator()"
      ]
     },
     "execution_count": 20,
     "metadata": {},
     "output_type": "execute_result"
    }
   ],
   "source": [
    "import streamlit as st\n",
    "import pandas as pd\n",
    "import matplotlib.pyplot as plt\n",
    "import seaborn as sns\n",
    "sns.set()\n",
    "\n",
    "\n",
    "st.title('California Housing Data(1990)')\n",
    "df = pd.read_csv('housing.csv')\n",
    "\n",
    "\n",
    "house_price_filter = st.slider('Minimal Median House Pirce :', 0, 500001, 200000)  \n",
    "st.header('See more filters in the sidebar:')\n",
    "\n",
    "choose_the_location_type = st.sidebar.multiselect(\n",
    "     'Choose the loctaion type',\n",
    "     df.ocean_proximity.unique(),  \n",
    "     df.ocean_proximity.unique())  \n",
    "\n",
    "income_level =st.sidebar.radio(\n",
    "    \"Select income level:\",\n",
    "    ('Low','Meidum','High'))\n",
    "\n",
    "if income_level =='Low':\n",
    "    filtered_df = df[df.median_income <=2.5]\n",
    "elif income_level =='Meidum':\n",
    "    filtered_df = df[(df.median_income >2.5)&(df.median_income <4.5)]\n",
    "else :\n",
    "    filtered_df = df[df.median_income >4.5]    \n",
    "\n",
    "# show on map\n",
    "st.map(df)\n",
    "\n",
    "# show the plot\n",
    "st.subheader('The Median House Value')\n",
    "fig, ax = plt.subplots(figsize=(20, 5))\n",
    "\n",
    "\n",
    "median_income = df.median_house_value.value_counts()\n",
    "df.median_income.hist(bins=30)\n",
    " \n",
    "\n",
    "fig, ax = plt.subplots(figsize=(15, 8))\n",
    "\n",
    "\n",
    "data =df[(df.median_house_value>=200000)&(df.median_income<=2.5)]\n",
    "\n",
    "data.median_house_value.hist(bins=30)\n",
    "\n",
    "\n",
    "plt.grid(True)\n",
    "st.pyplot(fig)\n"
   ]
  }
 ],
 "metadata": {
  "kernelspec": {
   "display_name": "base",
   "language": "python",
   "name": "python3"
  },
  "language_info": {
   "codemirror_mode": {
    "name": "ipython",
    "version": 3
   },
   "file_extension": ".py",
   "mimetype": "text/x-python",
   "name": "python",
   "nbconvert_exporter": "python",
   "pygments_lexer": "ipython3",
   "version": "3.12.4"
  }
 },
 "nbformat": 4,
 "nbformat_minor": 2
}
